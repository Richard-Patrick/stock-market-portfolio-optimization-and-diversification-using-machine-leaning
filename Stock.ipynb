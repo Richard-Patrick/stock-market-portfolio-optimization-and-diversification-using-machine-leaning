{
 "cells": [
  {
   "cell_type": "code",
   "execution_count": 48,
   "id": "5539a27c",
   "metadata": {},
   "outputs": [],
   "source": [
    "import pandas as pd\n",
    "import pypfopt\n",
    "from pypfopt.expected_returns import mean_historical_return\n",
    "from pypfopt.risk_models import CovarianceShrinkage\n",
    "from pypfopt.efficient_frontier import EfficientFrontier\n",
    "from pypfopt.discrete_allocation import DiscreteAllocation, get_latest_prices\n",
    "\n",
    "from pypfopt import HRPOpt\n",
    "from pypfopt.efficient_frontier import EfficientCVaR"
   ]
  },
  {
   "cell_type": "code",
   "execution_count": 49,
   "id": "8bf8bf61",
   "metadata": {},
   "outputs": [],
   "source": [
    "portfolio = pd.read_csv(\"data/Stock_History/closing.csv\")\n",
    "company = pd.read_csv(\"data/Company_data.csv\")"
   ]
  },
  {
   "cell_type": "code",
   "execution_count": 50,
   "id": "2ad49a77",
   "metadata": {},
   "outputs": [],
   "source": [
    "portfolio = portfolio.drop(columns=['GEHC', 'CEG', 'OGN', 'CARR', 'OTIS', 'WTW'])"
   ]
  },
  {
   "cell_type": "code",
   "execution_count": 51,
   "id": "a7e71c61",
   "metadata": {},
   "outputs": [],
   "source": [
    "company = company.loc[company['Symbol'].isin(portfolio.columns)]"
   ]
  },
  {
   "cell_type": "code",
   "execution_count": 80,
   "id": "00c0c02d",
   "metadata": {},
   "outputs": [],
   "source": [
    "def Mean_Variance_Optimization(data,latest_prices,portfolio_value):\n",
    "    \n",
    "    Mean_Historical_Return = mean_historical_return(data)\n",
    "    Covariance_Shrinkage = CovarianceShrinkage(data).ledoit_wolf()\n",
    "\n",
    "    Efficient_Frontier = EfficientFrontier(Mean_Historical_Return, Covariance_Shrinkage)\n",
    "    weights = Efficient_Frontier.max_sharpe()\n",
    "    \n",
    "    cleaned_weights = Efficient_Frontier.clean_weights()\n",
    "    \n",
    "    performance = Efficient_Frontier.portfolio_performance(verbose=False)\n",
    "\n",
    "    Discrete_Allocation = DiscreteAllocation(weights, latest_prices, total_portfolio_value=portfolio_value)\n",
    "    \n",
    "    allocation, leftover = Discrete_Allocation.greedy_portfolio()\n",
    "    \n",
    "    allocation={key: value for key, value in allocation.items() if value >= 0}\n",
    "    \n",
    "    latest_prices.loc[list(allocation.keys())]\n",
    "\n",
    "    value=latest_prices.loc[list(allocation.keys())]*list(allocation.values())\n",
    "\n",
    "    value[value > 0].sum()\n",
    "\n",
    "    performance = list(performance)\n",
    "\n",
    "    performance[0] = performance[0]*100\n",
    "    performance[1] = performance[1]*100\n",
    "\n",
    "\n",
    "    return(allocation,leftover,performance)"
   ]
  },
  {
   "cell_type": "code",
   "execution_count": 79,
   "id": "3a594e28",
   "metadata": {},
   "outputs": [],
   "source": [
    "def Hierarchical_Risk_parity(data,latest_prices,portfolio_value):\n",
    "    \n",
    "    returns = data.pct_change().dropna()\n",
    "\n",
    "    hrp = HRPOpt(returns)\n",
    "    hrp_weights = hrp.optimize()\n",
    "\n",
    "    hrp.portfolio_performance(verbose=False)\n",
    "    \n",
    "    print(dict(hrp_weights))\n",
    "\n",
    "    da_hrp = DiscreteAllocation(hrp_weights, latest_prices, total_portfolio_value=100000)\n",
    "    \n",
    "    allocation, leftover = da_hrp.greedy_portfolio() \n",
    "    \n",
    "    print(\"Discrete allocation (HRP):\", allocation)\n",
    "    \n",
    "    print(\"Funds remaining (HRP): ${:.2f}\".format(leftover))\n"
   ]
  },
  {
   "cell_type": "code",
   "execution_count": 54,
   "id": "76561cf3",
   "metadata": {},
   "outputs": [],
   "source": [
    "def CVAR(data,latest_prices,portfolio_value):\n",
    "    S = data.cov()\n",
    "    mu = mean_historical_return(data)\n",
    "\n",
    "    ef_cvar = EfficientCVaR(mu, S)\n",
    "    cvar_weights = ef_cvar.min_cvar()\n",
    "\n",
    "    ef_cvar.portfolio_performance(verbose=True)\n",
    "    \n",
    "    cleaned_weights = ef_cvar.clean_weights()\n",
    "    print(dict(cleaned_weights))\n",
    "\n",
    "    da_cvar = DiscreteAllocation(cvar_weights, latest_prices, total_portfolio_value=100000)\n",
    "    \n",
    "    allocation, leftover = da_cvar.greedy_portfolio()\n",
    "    print(\"Discrete allocation (CVAR):\", allocation)\n",
    "    print(\"Funds remaining (CVAR): ${:.2f}\".format(leftover))\n",
    "    "
   ]
  },
  {
   "cell_type": "code",
   "execution_count": 55,
   "id": "d72d7b6c",
   "metadata": {},
   "outputs": [],
   "source": [
    "total_portfolio_value=100000\n",
    "latest_prices = get_latest_prices(portfolio.iloc[:, 1:])"
   ]
  },
  {
   "cell_type": "code",
   "execution_count": 81,
   "id": "39d47092",
   "metadata": {},
   "outputs": [
    {
     "name": "stderr",
     "output_type": "stream",
     "text": [
      "f:\\anaconda\\envs\\Project\\lib\\site-packages\\cvxpy\\problems\\problem.py:1387: UserWarning: Solution may be inaccurate. Try another solver, adjusting the solver settings, or solve with verbose=True for more information.\n",
      "  warnings.warn(\n",
      "f:\\anaconda\\envs\\Project\\lib\\site-packages\\pypfopt\\discrete_allocation.py:212: RuntimeWarning: divide by zero encountered in divide\n",
      "  current_weights /= current_weights.sum()\n",
      "f:\\anaconda\\envs\\Project\\lib\\site-packages\\pypfopt\\discrete_allocation.py:212: RuntimeWarning: invalid value encountered in divide\n",
      "  current_weights /= current_weights.sum()\n"
     ]
    },
    {
     "data": {
      "text/plain": [
       "({'MCK': 55,\n",
       "  'LLY': 56,\n",
       "  'MRNA': 100,\n",
       "  'PWR': 108,\n",
       "  'ENPH': 50,\n",
       "  'EQT': 175,\n",
       "  'TSCO': 13,\n",
       "  'KR': 46,\n",
       "  'MOH': 3,\n",
       "  'TSLA': 3},\n",
       " 26.231608127956633,\n",
       " [63.8467533675485, 30.063917324158968, 2.0571754738644543])"
      ]
     },
     "execution_count": 81,
     "metadata": {},
     "output_type": "execute_result"
    }
   ],
   "source": [
    "Mean_Variance_Optimization(portfolio.iloc[:, 1:],latest_prices,total_portfolio_value)"
   ]
  },
  {
   "cell_type": "code",
   "execution_count": 11,
   "id": "66ab2562",
   "metadata": {},
   "outputs": [
    {
     "name": "stdout",
     "output_type": "stream",
     "text": [
      "Expected annual return: 12.3%\n",
      "Annual volatility: 23.0%\n",
      "Sharpe Ratio: 0.45\n",
      "{'A': 0.003674993888510793, 'AAL': 0.0004515025862375373, 'AAP': 0.0013331062279617488, 'AAPL': 0.0016536041449563984, 'ABBV': 0.0053642181736963, 'ABC': 0.0022686558169749574, 'ABT': 0.0028454246016717324, 'ACGL': 0.0012272099759233126, 'ACN': 0.0019050602213808705, 'ADBE': 0.0013023148455898657, 'ADI': 0.0011317429358723469, 'ADM': 0.0030938932563764044, 'ADP': 0.0019038586862115147, 'ADSK': 0.0013079253635319447, 'AEE': 0.0021543229201328017, 'AEP': 0.002497445369041483, 'AES': 0.001480903275373121, 'AFL': 0.0021004079726282474, 'AIG': 0.0007154327890289945, 'AIZ': 0.0022782828677433485, 'AJG': 0.0023897972485647616, 'AKAM': 0.004676489571263145, 'ALB': 0.001380321661865856, 'ALGN': 0.00104365838230894, 'ALK': 0.0007794624517292614, 'ALL': 0.0022510362007932914, 'ALLE': 0.0016495481269588543, 'AMAT': 0.0008302021352676702, 'AMCR': 0.0022179023547927164, 'AMD': 0.0009373366840687358, 'AME': 0.0016197846529349385, 'AMGN': 0.004458907598774505, 'AMP': 0.0006872362954848508, 'AMT': 0.0017821356313613445, 'AMZN': 0.001673723854175605, 'ANET': 0.0018615343337488506, 'ANSS': 0.001106927585212464, 'AON': 0.002879792220819924, 'AOS': 0.00284952486716274, 'APA': 0.0003308874010656604, 'APD': 0.0019342870416727768, 'APH': 0.0018592418933231986, 'APTV': 0.0007348844850676207, 'ARE': 0.0027073629663439316, 'ATO': 0.0024393332699398362, 'ATVI': 0.004344476394823994, 'AVB': 0.0013782186903838823, 'AVGO': 0.0011502885650121588, 'AVY': 0.0021993623429240605, 'AWK': 0.0038863391663338143, 'AXON': 0.0013644275459801145, 'AXP': 0.0007793399489806513, 'AZO': 0.0018111020980047128, 'BA': 0.0011040345914065189, 'BAC': 0.0008590231240172502, 'BALL': 0.0032548771292225226, 'BAX': 0.004586560745698904, 'BBWI': 0.0007715147551679285, 'BBY': 0.0015070072341036452, 'BDX': 0.00696498269810965, 'BEN': 0.002314196825602128, 'BF-B': 0.002662174077529309, 'BG': 0.0017221094500334785, 'BIIB': 0.0021513963917543164, 'BIO': 0.002320638857507371, 'BK': 0.001217166667906679, 'BKNG': 0.001585201218748359, 'BKR': 0.0008617690493286157, 'BLK': 0.0015810581006834052, 'BMY': 0.006036931283491773, 'BR': 0.002621853667602289, 'BRK-B': 0.0030312967540439594, 'BRO': 0.0022196314071200596, 'BSX': 0.0019586371134192255, 'BWA': 0.0012671640985531085, 'BXP': 0.0014864841240587597, 'C': 0.0007671816404657087, 'CAG': 0.00384639885489604, 'CAH': 0.002055354684829309, 'CAT': 0.002316562813960726, 'CB': 0.0015205761515885957, 'CBOE': 0.0037793651934699525, 'CBRE': 0.0014044888857501188, 'CCI': 0.0019502612749059459, 'CCL': 0.0003802369358779319, 'CDAY': 0.0007411444136885582, 'CDNS': 0.0010999196676240496, 'CDW': 0.0016557382415499985, 'CE': 0.0010225569580961514, 'CF': 0.00125876698649379, 'CFG': 0.0005226000957869782, 'CHD': 0.004702825762503726, 'CHRW': 0.004517549799521304, 'CHTR': 0.003416030125758898, 'CI': 0.0013795666744381067, 'CINF': 0.0012632149283343071, 'CL': 0.00586296382182103, 'CLX': 0.004862847533794944, 'CMA': 0.0005245532895064116, 'CMCSA': 0.0040427541242268085, 'CME': 0.0023777596080394223, 'CMG': 0.0022272787522576365, 'CMI': 0.0019407123133146076, 'CMS': 0.002354318707968409, 'CNC': 0.0012618947288352423, 'CNP': 0.0013916149036097658, 'COF': 0.0005981549416280253, 'COO': 0.0023467462311782985, 'COP': 0.000708699969401689, 'COST': 0.003911241163793716, 'CPB': 0.0036889464003254198, 'CPRT': 0.0024287059586533973, 'CPT': 0.0016444902357534874, 'CRL': 0.0013881309642792216, 'CRM': 0.001756631225690271, 'CSCO': 0.0026669023694649817, 'CSGP': 0.002535167000858164, 'CSX': 0.0015141174570557228, 'CTAS': 0.0018063951918650307, 'CTLT': 0.0018071836671022302, 'CTRA': 0.0021390294618311547, 'CTSH': 0.001394249388246472, 'CTVA': 0.0019252033383534539, 'CVS': 0.0026879722866675793, 'CVX': 0.001092407280939977, 'CZR': 0.0003638899289436352, 'D': 0.002049778995381888, 'DAL': 0.0010750764811385516, 'DD': 0.0014260697172870616, 'DE': 0.0019994359485901595, 'DFS': 0.00045917958374426586, 'DG': 0.004401774062138849, 'DGX': 0.0026638709987617235, 'DHI': 0.0008330428534304222, 'DHR': 0.0029219168523554936, 'DIS': 0.001641752638245451, 'DISH': 0.0011641410073889855, 'DLR': 0.0017533462792958304, 'DLTR': 0.002351350957926867, 'DOV': 0.0014984910814905235, 'DOW': 0.0009199206546279814, 'DPZ': 0.005511933775797142, 'DRI': 0.000902906314477573, 'DTE': 0.001949882609253421, 'DUK': 0.0023748778705702848, 'DVA': 0.004664035991413426, 'DVN': 0.0008178204825242805, 'DXC': 0.001025359838294259, 'DXCM': 0.0016267492626561716, 'EA': 0.004051824417957051, 'EBAY': 0.00348752025506041, 'ECL': 0.0014801299456263294, 'ED': 0.002490224928016815, 'EFX': 0.0024614555738504667, 'EIX': 0.0019428599614663591, 'EL': 0.0016575018190350236, 'ELV': 0.0013322917726050693, 'EMN': 0.001147186278046118, 'EMR': 0.001213522667585149, 'ENPH': 0.00046507243591057925, 'EOG': 0.0008230853169087183, 'EPAM': 0.001094811019249374, 'EQIX': 0.002169924735245442, 'EQR': 0.00134727478193533, 'EQT': 0.0010067628735250774, 'ES': 0.0019608153328389295, 'ESS': 0.001459298412452256, 'ETN': 0.0014216634154461854, 'ETR': 0.0018724964882197907, 'ETSY': 0.0009099191260136853, 'EVRG': 0.001967079372030699, 'EW': 0.0018647398388509896, 'EXC': 0.0017299473676184241, 'EXPD': 0.004574482509380776, 'EXPE': 0.0008205296492640944, 'EXR': 0.003351958630313277, 'F': 0.0008724874898652259, 'FANG': 0.0004187980426976603, 'FAST': 0.0026700668209996203, 'FCX': 0.0007387550421286815, 'FDS': 0.002077792671572099, 'FDX': 0.0016756162531187814, 'FE': 0.002214785250298664, 'FFIV': 0.003051425311049191, 'FICO': 0.0010939644036129553, 'FIS': 0.0014797042786396366, 'FISV': 0.001898633264311929, 'FITB': 0.0005514862234569499, 'FLT': 0.0018566776792552741, 'FMC': 0.001863508476198441, 'FOX': 0.0017804782310868541, 'FOXA': 0.0018924648979972494, 'FRT': 0.0011391553113575836, 'FSLR': 0.0014569619317426656, 'FTNT': 0.0011107519742899912, 'FTV': 0.0016395840933032821, 'GD': 0.0025054667627535943, 'GE': 0.0015036637499474675, 'GEN': 0.005180573315068387, 'GILD': 0.005608312563078592, 'GIS': 0.004198855443117182, 'GL': 0.0012683162489533605, 'GLW': 0.0014956878497285313, 'GM': 0.000940761192802798, 'GNRC': 0.0012489585211048417, 'GOOG': 0.0014617038123517852, 'GOOGL': 0.0015445030654301186, 'GPC': 0.0015660678636310694, 'GPN': 0.0014868822406081447, 'GRMN': 0.002442692371409258, 'GS': 0.0011317762297700666, 'GWW': 0.0023679664763416076, 'HAL': 0.0004818341787600486, 'HAS': 0.002301656658670462, 'HBAN': 0.0007119135700334614, 'HCA': 0.0010397785931351023, 'HD': 0.0016887397128641556, 'HES': 0.0005802479492654016, 'HIG': 0.0011512108219487742, 'HII': 0.0025025205782266855, 'HLT': 0.0017746961062434286, 'HOLX': 0.00278902640159002, 'HON': 0.001667365772133812, 'HPE': 0.001220600241590391, 'HPQ': 0.0016149317730473206, 'HRL': 0.006958028163273131, 'HSIC': 0.004724476506255122, 'HST': 0.0010370524416057653, 'HSY': 0.0035417817585979036, 'HUM': 0.0014969594971329183, 'HWM': 0.0007561013822131713, 'IBM': 0.003078212852382704, 'ICE': 0.0027056913167576133, 'IDXX': 0.0018920389403723876, 'IEX': 0.002491286780222775, 'IFF': 0.0029307883606726646, 'ILMN': 0.0017964606456554273, 'INCY': 0.004515794155944559, 'INTC': 0.0014047954394369845, 'INTU': 0.001017837690031371, 'INVH': 0.0029263716861078195, 'IP': 0.0016372478541231948, 'IPG': 0.0012287743821391497, 'IQV': 0.0015284555076092502, 'IR': 0.0015474573666656207, 'IRM': 0.002809774837714686, 'ISRG': 0.0013657046520494792, 'IT': 0.0017371245570788362, 'ITW': 0.001804016672281717, 'IVZ': 0.0007753612109216581, 'J': 0.0025293453138291963, 'JBHT': 0.0020365263748205365, 'JCI': 0.00178321963178316, 'JKHY': 0.0038755117141966067, 'JNJ': 0.0061943574967869225, 'JNPR': 0.002741882457095018, 'JPM': 0.0010251844368798979, 'K': 0.004498360919265808, 'KDP': 0.005626282794955252, 'KEY': 0.0007605002912507067, 'KEYS': 0.004750931286893907, 'KHC': 0.0035120106018612283, 'KIM': 0.0009676544075145966, 'KLAC': 0.0008609807087492544, 'KMB': 0.006295333057214701, 'KMI': 0.0017424782784219422, 'KMX': 0.0014729462510314746, 'KO': 0.003970624632353115, 'KR': 0.006675815671197046, 'L': 0.0011050445671119669, 'LDOS': 0.0024554581063041562, 'LEN': 0.0011905495374981527, 'LH': 0.0018498577062200437, 'LHX': 0.003104389806422122, 'LIN': 0.0022273645785108277, 'LKQ': 0.0009677389244988769, 'LLY': 0.0036970910215076242, 'LMT': 0.004391436012105486, 'LNC': 0.000367865072074795, 'LNT': 0.0022988010082571593, 'LOW': 0.0014346404699902247, 'LRCX': 0.0010062299517135753, 'LUV': 0.0012567130508860933, 'LVS': 0.0008935070300723894, 'LW': 0.0017913700593826945, 'LYB': 0.0007311351888159763, 'LYV': 0.0012423454303685775, 'MA': 0.001547772970334393, 'MAA': 0.001935680256817722, 'MAR': 0.0011555043610885034, 'MAS': 0.0017432937014428117, 'MCD': 0.0030873890741660395, 'MCHP': 0.0007136730938775293, 'MCK': 0.0020676148122331247, 'MCO': 0.0014211983795433115, 'MDLZ': 0.005168858802328025, 'MDT': 0.002187773910467396, 'MET': 0.0009049667490019434, 'META': 0.0010770317604380745, 'MGM': 0.0006042199333369223, 'MHK': 0.001012363626654764, 'MKC': 0.0033112356678737485, 'MKTX': 0.002239650527963212, 'MLM': 0.0013370420265040835, 'MMC': 0.0038472308772797394, 'MMM': 0.003293481784783807, 'MNST': 0.0028660906365516633, 'MO': 0.004198698475704454, 'MOH': 0.002146652158016849, 'MOS': 0.0008335932482183613, 'MPC': 0.0013744252974469042, 'MPWR': 0.0007082316937808687, 'MRK': 0.004981342978241686, 'MRNA': 0.0013138351601310195, 'MRO': 0.00049966911774425, 'MS': 0.0009174008775916861, 'MSCI': 0.001300737871268954, 'MSFT': 0.0014281443783066994, 'MSI': 0.0024405842882022446, 'MTB': 0.0007446122266239979, 'MTCH': 0.0015250195442614296, 'MTD': 0.00226622044087566, 'MU': 0.0009590354387303998, 'NCLH': 0.00033816988176184776, 'NDAQ': 0.0025100729064821098, 'NDSN': 0.0015031773575413631, 'NEE': 0.0024261009233921757, 'NEM': 0.00591685350696251, 'NFLX': 0.0015000522929177914, 'NI': 0.002074772617354136, 'NKE': 0.0021188115248308506, 'NOC': 0.0031910730233667413, 'NOW': 0.001080325280650204, 'NRG': 0.0024717318446299667, 'NSC': 0.0015356263864026577, 'NTAP': 0.001808408525684503, 'NTRS': 0.0010583946349186143, 'NUE': 0.001129723762612026, 'NVDA': 0.0007286687161109925, 'NVR': 0.001090150057806737, 'NWL': 0.0015003400924506213, 'NWS': 0.0014590845487742429, 'NWSA': 0.0015097390768755792, 'NXPI': 0.0007647241853145475, 'O': 0.001950404775218302, 'ODFL': 0.0017526580913570975, 'OKE': 0.0006597940445513737, 'OMC': 0.0015750247217986581, 'ON': 0.00046675822123028594, 'ORCL': 0.0037624781455555586, 'ORLY': 0.002236791982265497, 'OXY': 0.0003564786859063305, 'PARA': 0.0007518342834885048, 'PAYC': 0.000723417909518563, 'PAYX': 0.0017798759394431322, 'PCAR': 0.0024084310973593167, 'PCG': 0.001475019538525049, 'PEAK': 0.0011860978219564164, 'PEG': 0.002313410986111777, 'PEP': 0.004872454128512681, 'PFE': 0.005029223266407234, 'PFG': 0.0007293263398478008, 'PG': 0.005506835202386571, 'PGR': 0.004794567011046955, 'PH': 0.0009555591422418176, 'PHM': 0.0007261175396708404, 'PKG': 0.002453967440291093, 'PLD': 0.0027789091674272014, 'PM': 0.003099626146294935, 'PNC': 0.0012271694772250262, 'PNR': 0.0012769904695800961, 'PNW': 0.0019119236109413466, 'PODD': 0.0016085192868548826, 'POOL': 0.0022839132089581427, 'PPG': 0.0016749921689217918, 'PPL': 0.0023788252613472323, 'PRU': 0.0007886693819769715, 'PSA': 0.004396818455522539, 'PSX': 0.001244729669257245, 'PTC': 0.0026825474830547867, 'PWR': 0.0016601821426253161, 'PXD': 0.0006445538772459041, 'PYPL': 0.001010088438483655, 'QCOM': 0.0011568589391464672, 'QRVO': 0.0009524916852222152, 'RCL': 0.0004078104273529641, 'RE': 0.0013224750469259016, 'REG': 0.001077990165076983, 'REGN': 0.004254605242821653, 'RF': 0.0005949434669317913, 'RHI': 0.001669912601189056, 'RJF': 0.0009767262158519225, 'RL': 0.001694387461615167, 'RMD': 0.002936681043752505, 'ROK': 0.001649261815708934, 'ROL': 0.004126876436623607, 'ROP': 0.002734749794281644, 'ROST': 0.0012335613198294886, 'RSG': 0.004162062670907376, 'RTX': 0.0014971345720590282, 'RVTY': 0.002061430943685203, 'SBAC': 0.0017916074424766202, 'SBUX': 0.0023081784489580167, 'SCHW': 0.0011706022989715216, 'SEDG': 0.0005944061879888699, 'SEE': 0.0016456637627193342, 'SHW': 0.00239710724168191, 'SJM': 0.005946159238428051, 'SLB': 0.0006280662996685737, 'SNA': 0.0018215830249407353, 'SNPS': 0.0014935990656658037, 'SO': 0.002004564636219807, 'SPG': 0.0009690225174682908, 'SPGI': 0.0016637631206181738, 'SRE': 0.0022980635221706257, 'STE': 0.0036222147202617334, 'STLD': 0.0011233351202438071, 'STT': 0.0008182981882817708, 'STX': 0.0015190687617364365, 'STZ': 0.004403729986286428, 'SWK': 0.0009592784623595248, 'SWKS': 0.0008805975515716342, 'SYF': 0.0005173911230026206, 'SYK': 0.0015853418980222424, 'SYY': 0.001202525694504595, 'T': 0.0038646702117121224, 'TAP': 0.003167091059431168, 'TDG': 0.001122976706872214, 'TDY': 0.0019426357540459744, 'TECH': 0.002504704434902955, 'TEL': 0.001307488970689481, 'TER': 0.0007557348391872535, 'TFC': 0.0013851574394736815, 'TFX': 0.0016235252432265086, 'TGT': 0.0027615035134118835, 'TJX': 0.001466586360179535, 'TMO': 0.002222412247476074, 'TMUS': 0.003707824519127581, 'TPR': 0.0007747311233679701, 'TRGP': 0.0004456875534009211, 'TRMB': 0.001341962775744519, 'TROW': 0.0012464832091656343, 'TRV': 0.00156189476488159, 'TSCO': 0.002903525967787359, 'TSLA': 0.000791202325984113, 'TSN': 0.0033270874842602116, 'TT': 0.00169976161812986, 'TTWO': 0.0023406940142255074, 'TXN': 0.0015583898907662018, 'TXT': 0.0017608691497123592, 'TYL': 0.002487762244560184, 'UAL': 0.0006842672227519698, 'UDR': 0.0014138785098574329, 'UHS': 0.001157048603983917, 'ULTA': 0.0010260009835317942, 'UNH': 0.002290666212826592, 'UNP': 0.0017948112882056467, 'UPS': 0.0026791101483632706, 'URI': 0.0007452510525584048, 'USB': 0.0009219649416069356, 'V': 0.001955313224799742, 'VFC': 0.001242646555742625, 'VICI': 0.0016958977019350934, 'VLO': 0.000963660614302122, 'VMC': 0.0014463788736940534, 'VRSK': 0.002500501602342708, 'VRSN': 0.002265585725313089, 'VRTX': 0.0035918353635569977, 'VTR': 0.0006533729480045078, 'VTRS': 0.0029625690050285214, 'VZ': 0.007978782813802241, 'WAB': 0.001639099598187685, 'WAT': 0.002018336210981127, 'WBA': 0.002133156845194685, 'WBD': 0.0008224538479872043, 'WDC': 0.000799533015982293, 'WEC': 0.003267693790143159, 'WELL': 0.0008112675257684511, 'WFC': 0.0007898494128377511, 'WHR': 0.0010872174763486338, 'WM': 0.004257052263551028, 'WMB': 0.0018233152892189585, 'WMT': 0.004312749116795739, 'WRB': 0.0014855478687287585, 'WRK': 0.0010035427462887837, 'WST': 0.00235104582763993, 'WY': 0.0009194142807754717, 'WYNN': 0.0005974645703254559, 'XEL': 0.002448886548058472, 'XOM': 0.001490894710267368, 'XRAY': 0.0024073065645006664, 'XYL': 0.0014682551848905045, 'YUM': 0.002638018716312344, 'ZBH': 0.0015761764688801104, 'ZBRA': 0.0023631189729594907, 'ZION': 0.0007760668908857393, 'ZTS': 0.0030270687412872863}\n",
      "Discrete allocation (HRP): {'VZ': 20, 'BDX': 3, 'HRL': 15, 'KR': 14, 'KMB': 4, 'JNJ': 3, 'BMY': 8, 'SJM': 3, 'NEM': 12, 'CL': 7, 'KDP': 15, 'GILD': 6, 'DPZ': 2, 'PG': 3, 'ABBV': 3, 'GEN': 24, 'MDLZ': 7, 'PFE': 9, 'MRK': 4, 'PEP': 2, 'CLX': 3, 'PGR': 3, 'KEYS': 3, 'HSIC': 5, 'CHD': 5, 'AKAM': 5, 'DVA': 6, 'BAX': 8, 'EXPD': 4, 'CHRW': 4, 'INCY': 5, 'K': 6, 'AMGN': 2, 'STZ': 2, 'DG': 2, 'PSA': 2, 'LMT': 1, 'ATVI': 5, 'WMT': 3, 'WM': 2, 'REGN': 1, 'GIS': 5, 'MO': 9, 'RSG': 3, 'ROL': 11, 'EA': 3, 'CMCSA': 11, 'KO': 6, 'COST': 1, 'AWK': 2, 'JKHY': 2, 'T': 20, 'MMC': 2, 'CAG': 9, 'CBOE': 3, 'ORCL': 4, 'TMUS': 2, 'LLY': 1, 'CPB': 6, 'A': 2, 'STE': 2, 'VRTX': 1, 'HSY': 1, 'KHC': 8, 'EBAY': 8, 'CHTR': 1, 'EXR': 2, 'TSN': 5, 'MKC': 3, 'MMM': 2, 'WEC': 3, 'BALL': 6, 'NOC': 1, 'TAP': 6, 'LHX': 1, 'PM': 3, 'ADM': 3, 'MCD': 1, 'IBM': 2, 'FFIV': 2, 'BRK-B': 1, 'ZTS': 2, 'VTRS': 26, 'RMD': 1, 'IFF': 2, 'INVH': 9, 'DHR': 1, 'TSCO': 1, 'AON': 1, 'MNST': 5, 'AOS': 4, 'ABT': 2, 'IRM': 5, 'HOLX': 3, 'PLD': 2, 'TGT': 1, 'JNPR': 8, 'ROP': 1, 'ARE': 1, 'ICE': 2, 'CVS': 2, 'PTC': 2, 'UPS': 1, 'FAST': 5, 'CSCO': 5, 'DGX': 1, 'BF-B': 4, 'YUM': 2, 'BR': 1, 'CSGP': 3, 'J': 2, 'NDAQ': 4, 'GD': 1, 'TECH': 3, 'HII': 1, 'VRSK': 1, 'AEP': 2, 'IEX': 1, 'ED': 2, 'TYL': 1, 'NRG': 7, 'EFX': 1, 'LDOS': 2, 'PKG': 1, 'XEL': 3, 'GRMN': 2, 'MSI': 1, 'ATO': 2, 'CPRT': 3, 'NEE': 2, 'PCAR': 3, 'XRAY': 7, 'SHW': 1, 'AJG': 1, 'PPL': 8, 'CME': 1, 'DUK': 2, 'GWW': 1, 'ZBRA': 1, 'CMS': 3, 'DLTR': 1, 'WST': 1, 'COO': 1, 'TTWO': 2, 'BIO': 1, 'CAT': 1, 'BEN': 8, 'PEG': 3, 'SBUX': 2, 'HAS': 3, 'LNT': 4, 'SRE': 1, 'UNH': 1, 'POOL': 1, 'AIZ': 1, 'ABC': 1, 'MTD': 1, 'VRSN': 1, 'ALL': 1, 'MKTX': 1, 'ORLY': 1, 'LIN': 1, 'CMG': 1, 'TMO': 1, 'BRO': 3, 'AMCR': 18, 'FE': 5, 'AVY': 1, 'MDT': 2, 'EQIX': 1, 'AEE': 2, 'BIIB': 1, 'MOH': 1, 'CTRA': 8, 'WBA': 5, 'NKE': 1, 'AFL': 2, 'FDS': 1, 'NI': 7, 'MCK': 1, 'RVTY': 1, 'CAH': 2, 'D': 3, 'JBHT': 1, 'WAT': 1, 'SO': 2, 'DE': 1, 'EVRG': 3, 'ES': 2, 'BSX': 4, 'V': 1, 'O': 3, 'CCI': 1, 'DTE': 1, 'EIX': 3, 'TDY': 1, 'CMI': 1, 'MAA': 1, 'APD': 1, 'CTVA': 3, 'PNW': 2, 'ACN': 1, 'ADP': 1, 'FISV': 1, 'FOXA': 6, 'IDXX': 1, 'ETR': 1, 'EW': 2, 'FMC': 1, 'ANET': 1, 'APH': 2, 'FLT': 1, 'LH': 1, 'WMB': 5, 'SNA': 1, 'AZO': 1, 'NTAP': 3, 'CTLT': 4, 'CTAS': 1, 'ITW': 1, 'ILMN': 1, 'UNP': 1, 'SBAC': 1, 'LW': 2, 'JCI': 2, 'AMT': 1, 'FOX': 6, 'PAYX': 1, 'HLT': 1, 'TXT': 2, 'CRM': 1, 'DLR': 1, 'ODFL': 1, 'MAS': 3, 'KMI': 9, 'IT': 1, 'EXC': 4, 'BG': 1, 'TT': 1, 'VICI': 5, 'RL': 1, 'HD': 1, 'FDX': 1, 'PPG': 1, 'AMZN': 1, 'RHI': 2, 'HON': 1, 'SPGI': 1, 'PWR': 1, 'EL': 1, 'CDW': 1, 'AAPL': 1, 'ALLE': 1, 'ROK': 1, 'SEE': 3, 'CPT': 1, 'DIS': 1, 'FTV': 2, 'WAB': 1, 'IP': 4, 'DXCM': 1, 'TFX': 1, 'AME': 1, 'HPQ': 6, 'PODD': 1, 'SYK': 1, 'BKNG': 1, 'BLK': 1, 'ZBH': 1, 'OMC': 1, 'GPC': 1, 'TRV': 1, 'TXN': 1, 'MA': 1, 'IR': 2, 'GOOGL': 1, 'NSC': 1, 'IQV': 1, 'MTCH': 3, 'CB': 1, 'STX': 2, 'CSX': 4, 'NWSA': 8, 'BBY': 1, 'GE': 2, 'NDSN': 1, 'NWL': 11, 'NFLX': 1, 'DOV': 1, 'RTX': 1, 'HUM': 1, 'GLW': 4, 'SNPS': 1, 'XOM': 1, 'GPN': 1, 'BXP': 2, 'WRB': 2, 'AES': 5, 'ECL': 1, 'FIS': 2, 'PCG': 9, 'KMX': 2, 'XYL': 1, 'TJX': 1, 'GOOG': 1, 'ESS': 1, 'NWS': 7, 'FSLR': 1, 'VMC': 1, 'LOW': 1, 'MSFT': 1, 'DD': 2, 'ETN': 1, 'MCO': 1, 'UDR': 3, 'INTC': 5, 'CBRE': 1, 'CTSH': 2, 'CNP': 4, 'CRL': 1, 'TFC': 3, 'ALB': 1, 'CI': 1, 'AVB': 1, 'MPC': 1, 'ISRG': 1, 'AXON': 1, 'EQR': 2, 'TRMB': 2, 'MLM': 1, 'AAP': 1, 'ELV': 1, 'RE': 1, 'MRNA': 1, 'ADSK': 1, 'TEL': 1, 'PNR': 2, 'GL': 1, 'BWA': 3, 'CINF': 1, 'CNC': 1, 'CF': 1, 'LUV': 3, 'GNRC': 1, 'TROW': 1, 'PSX': 1, 'VFC': 4, 'LYV': 1, 'ROST': 1, 'IPG': 3, 'ACGL': 1, 'HPE': 7, 'BK': 2, 'EMR': 1, 'SYY': 1, 'LEN': 1, 'PEAK': 4, 'SCHW': 1, 'DISH': 8, 'QCOM': 1, 'HIG': 1, 'EMN': 1, 'FRT': 1, 'STLD': 1, 'FTNT': 2, 'L': 1, 'REG': 1, 'DAL': 3, 'NTRS': 1, 'HST': 6, 'DXC': 3, 'CE': 1, 'PYPL': 1, 'EQT': 2, 'WRK': 2, 'LKQ': 1, 'KIM': 4, 'SWK': 1, 'MU': 1, 'QRVO': 1, 'GM': 2, 'AMD': 1, 'USB': 2, 'DOW': 1, 'WY': 2, 'MS': 1, 'MET': 1, 'LVS': 1, 'F': 7, 'BKR': 2, 'BAC': 2, 'MOS': 1, 'WBD': 8, 'STT': 1, 'DVN': 1, 'WELL': 1, 'WDC': 2, 'WFC': 1, 'ALK': 1, 'ZION': 1, 'IVZ': 4, 'TPR': 2, 'BBWI': 1, 'C': 1, 'KEY': 4, 'HWM': 1, 'PARA': 4, 'CDAY': 1, 'FCX': 1, 'PHM': 1, 'AIG': 1, 'MCHP': 1, 'HBAN': 5, 'UAL': 1, 'OKE': 1, 'VTR': 1, 'SLB': 1, 'MGM': 1, 'RF': 2, 'FITB': 1, 'CFG': 1, 'SYF': 1, 'MRO': 1, 'HAL': 1, 'AAL': 3, 'CCL': 4, 'LNC': 1, 'NCLH': 2}\n",
      "Funds remaining (HRP): $101.44\n"
     ]
    }
   ],
   "source": [
    "Hierarchical_Risk_parity(portfolio.iloc[:, 1:],latest_prices,total_portfolio_value)"
   ]
  },
  {
   "cell_type": "code",
   "execution_count": 12,
   "id": "33c0364d",
   "metadata": {},
   "outputs": [
    {
     "name": "stdout",
     "output_type": "stream",
     "text": [
      "Expected annual return: 1.4%\n",
      "Conditional Value at Risk: -1794.29%\n",
      "{'A': 0.0, 'AAL': 0.0, 'AAP': 0.0, 'AAPL': 0.0, 'ABBV': 0.0, 'ABC': 0.0, 'ABT': 0.0, 'ACGL': 0.0, 'ACN': 0.0, 'ADBE': 0.0, 'ADI': 0.0, 'ADM': 0.0, 'ADP': 0.0, 'ADSK': 0.0, 'AEE': 0.0, 'AEP': 0.0, 'AES': 0.0, 'AFL': 0.0, 'AIG': 0.0, 'AIZ': 0.0, 'AJG': 0.0, 'AKAM': 0.0, 'ALB': 0.0, 'ALGN': 0.0, 'ALK': 0.0, 'ALL': 0.0, 'ALLE': 0.0, 'AMAT': 0.0, 'AMCR': 0.0, 'AMD': 0.0, 'AME': 0.0, 'AMGN': 0.0, 'AMP': 0.0, 'AMT': 0.0, 'AMZN': 0.0, 'ANET': 0.0, 'ANSS': 0.0, 'AON': 0.0, 'AOS': 0.0, 'APA': 0.0, 'APD': 0.0, 'APH': 0.0, 'APTV': 0.0, 'ARE': 0.0, 'ATO': 0.0, 'ATVI': 0.0, 'AVB': 0.0, 'AVGO': 0.0, 'AVY': 0.0, 'AWK': 0.0, 'AXON': 0.0, 'AXP': 0.0, 'AZO': 0.0, 'BA': 0.0, 'BAC': 0.0, 'BALL': 0.0, 'BAX': 0.0, 'BBWI': 0.0, 'BBY': 0.0, 'BDX': 0.0, 'BEN': 0.0, 'BF-B': 0.0, 'BG': 0.0, 'BIIB': 0.0, 'BIO': 0.0, 'BK': 0.0, 'BKNG': 0.02856, 'BKR': 0.0, 'BLK': 0.0, 'BMY': 0.0, 'BR': 0.0, 'BRK-B': 0.0, 'BRO': 0.0, 'BSX': 0.0, 'BWA': 0.0, 'BXP': 0.0, 'C': 0.0, 'CAG': 0.0, 'CAH': 0.0, 'CAT': 0.0, 'CB': 0.0, 'CBOE': 0.0, 'CBRE': 0.0, 'CCI': 0.0, 'CCL': 0.0, 'CDAY': 0.0, 'CDNS': 0.0, 'CDW': 0.0, 'CE': 0.0, 'CF': 0.0, 'CFG': 0.0, 'CHD': 0.0, 'CHRW': 0.0, 'CHTR': 0.0, 'CI': 0.0, 'CINF': 0.0, 'CL': 0.0, 'CLX': 0.0, 'CMA': 0.0, 'CMCSA': 0.0, 'CME': 0.0, 'CMG': 0.0, 'CMI': 0.0, 'CMS': 0.0, 'CNC': 0.0, 'CNP': 0.0, 'COF': 0.0, 'COO': 0.0, 'COP': 0.0, 'COST': 0.0, 'CPB': 0.0, 'CPRT': 0.0, 'CPT': 0.0, 'CRL': 0.0, 'CRM': 0.0, 'CSCO': 0.0, 'CSGP': 0.0, 'CSX': 0.0, 'CTAS': 0.0, 'CTLT': 0.0, 'CTRA': 0.0, 'CTSH': 0.0, 'CTVA': 0.0, 'CVS': 0.0, 'CVX': 0.0, 'CZR': 0.0, 'D': 0.0, 'DAL': 0.0, 'DD': 0.0, 'DE': 0.0, 'DFS': 0.0, 'DG': 0.0, 'DGX': 0.0, 'DHI': 0.0, 'DHR': 0.0, 'DIS': 0.0, 'DISH': 0.0, 'DLR': 0.0, 'DLTR': 0.0, 'DOV': 0.0, 'DOW': 0.0, 'DPZ': 0.0, 'DRI': 0.0, 'DTE': 0.0, 'DUK': 0.0, 'DVA': 0.0, 'DVN': 0.0, 'DXC': 0.0, 'DXCM': 0.0, 'EA': 0.0, 'EBAY': 0.0, 'ECL': 0.0, 'ED': 0.0, 'EFX': 0.0, 'EIX': 0.0, 'EL': 0.0, 'ELV': 0.0, 'EMN': 0.0, 'EMR': 0.0, 'ENPH': 0.0, 'EOG': 0.0, 'EPAM': 0.0, 'EQIX': 0.03122, 'EQR': 0.0, 'EQT': 0.0, 'ES': 0.0, 'ESS': 0.0, 'ETN': 0.0, 'ETR': 0.0, 'ETSY': 0.0, 'EVRG': 0.0, 'EW': 0.0, 'EXC': 0.0, 'EXPD': 0.0, 'EXPE': 0.0, 'EXR': 0.0, 'F': 0.0, 'FANG': 0.0, 'FAST': 0.0, 'FCX': 0.0, 'FDS': 0.0, 'FDX': 0.0, 'FE': 0.0, 'FFIV': 0.0, 'FICO': 0.0, 'FIS': 0.0, 'FISV': 0.0, 'FITB': 0.0, 'FLT': 0.0, 'FMC': 0.0, 'FOX': 0.0, 'FOXA': 0.0, 'FRT': 0.0, 'FSLR': 0.0, 'FTNT': 0.0, 'FTV': 0.0, 'GD': 0.0, 'GE': 0.0, 'GEN': 0.0, 'GILD': 0.0, 'GIS': 0.0, 'GL': 0.0, 'GLW': 0.0, 'GM': 0.0, 'GNRC': 0.0, 'GOOG': 0.0, 'GOOGL': 0.0, 'GPC': 0.0, 'GPN': 0.0, 'GRMN': 0.0, 'GS': 0.0, 'GWW': 0.0, 'HAL': 0.0, 'HAS': 0.0, 'HBAN': 0.0, 'HCA': 0.0, 'HD': 0.0, 'HES': 0.0, 'HIG': 0.0, 'HII': 0.0, 'HLT': 0.0, 'HOLX': 0.0, 'HON': 0.0, 'HPE': 0.0, 'HPQ': 0.0, 'HRL': 0.0, 'HSIC': 0.0, 'HST': 0.0, 'HSY': 0.0, 'HUM': 0.0, 'HWM': 0.0, 'IBM': 0.0, 'ICE': 0.0, 'IDXX': 0.0, 'IEX': 0.0, 'IFF': 0.0, 'ILMN': 0.0, 'INCY': 0.0, 'INTC': 0.0, 'INTU': 0.0, 'INVH': 0.0, 'IP': 0.0, 'IPG': 0.0, 'IQV': 0.0, 'IR': 0.0, 'IRM': 0.0, 'ISRG': 0.0, 'IT': 0.0, 'ITW': 0.0, 'IVZ': 0.0, 'J': 0.0, 'JBHT': 0.0, 'JCI': 0.0, 'JKHY': 0.0, 'JNJ': 0.0, 'JNPR': 0.0, 'JPM': 0.0, 'K': 0.0, 'KDP': 0.0, 'KEY': 0.0, 'KEYS': 0.0, 'KHC': 0.0, 'KIM': 0.0, 'KLAC': 0.0, 'KMB': 0.0, 'KMI': 0.0, 'KMX': 0.0, 'KO': 0.0, 'KR': 0.0, 'L': 0.0, 'LDOS': 0.0, 'LEN': 0.0, 'LH': 0.0, 'LHX': 0.0, 'LIN': 0.0, 'LKQ': 0.0, 'LLY': 0.0, 'LMT': 0.66616, 'LNC': 0.0, 'LNT': 0.0, 'LOW': 0.0, 'LRCX': 0.0, 'LUV': 0.0, 'LVS': 0.0, 'LW': 0.0, 'LYB': 0.0, 'LYV': 0.0, 'MA': 0.0, 'MAA': 0.0, 'MAR': 0.0, 'MAS': 0.0, 'MCD': 0.0, 'MCHP': 0.0, 'MCK': 0.0, 'MCO': 0.0, 'MDLZ': 0.0, 'MDT': 0.0, 'MET': 0.0, 'META': 0.0, 'MGM': 0.0, 'MHK': 0.0, 'MKC': 0.0, 'MKTX': 0.09103, 'MLM': 0.0, 'MMC': 0.0, 'MMM': 0.0, 'MNST': 0.0, 'MO': 0.0, 'MOH': 0.0, 'MOS': 0.0, 'MPC': 0.0, 'MPWR': 0.0, 'MRK': 0.0, 'MRNA': 0.0, 'MRO': 0.0, 'MS': 0.0, 'MSCI': 0.0, 'MSFT': 0.0, 'MSI': 0.0, 'MTB': 0.0, 'MTCH': 0.0, 'MTD': 0.0, 'MU': 0.0, 'NCLH': 0.0, 'NDAQ': 0.0, 'NDSN': 0.0, 'NEE': 0.0, 'NEM': 0.0, 'NFLX': 0.0, 'NI': 0.0, 'NKE': 0.0, 'NOC': 0.0, 'NOW': 0.0, 'NRG': 0.0, 'NSC': 0.0, 'NTAP': 0.0, 'NTRS': 0.0, 'NUE': 0.0, 'NVDA': 0.0, 'NVR': 0.0, 'NWL': 0.0, 'NWS': 0.0, 'NWSA': 0.0, 'NXPI': 0.0, 'O': 0.0, 'ODFL': 0.0, 'OKE': 0.0, 'OMC': 0.0, 'ON': 0.0, 'ORCL': 0.0, 'ORLY': 0.0, 'OXY': 0.0, 'PARA': 0.0, 'PAYC': 0.0, 'PAYX': 0.0, 'PCAR': 0.0, 'PCG': 0.0, 'PEAK': 0.0, 'PEG': 0.0, 'PEP': 0.0, 'PFE': 0.0, 'PFG': 0.0, 'PG': 0.0, 'PGR': 0.0, 'PH': 0.0, 'PHM': 0.0, 'PKG': 0.0, 'PLD': 0.0, 'PM': 0.0, 'PNC': 0.0, 'PNR': 0.0, 'PNW': 0.0, 'PODD': 0.0, 'POOL': 0.0, 'PPG': 0.0, 'PPL': 0.0, 'PRU': 0.0, 'PSA': 0.0, 'PSX': 0.0, 'PTC': 0.0, 'PWR': 0.0, 'PXD': 0.0, 'PYPL': 0.0, 'QCOM': 0.0, 'QRVO': 0.0, 'RCL': 0.0, 'RE': 0.0, 'REG': 0.0, 'REGN': 0.0, 'RF': 0.0, 'RHI': 0.0, 'RJF': 0.0, 'RL': 0.0, 'RMD': 0.0, 'ROK': 0.0, 'ROL': 0.0, 'ROP': 0.0, 'ROST': 0.0, 'RSG': 0.0, 'RTX': 0.0, 'RVTY': 0.0, 'SBAC': 0.0, 'SBUX': 0.0, 'SCHW': 0.0, 'SEDG': 0.0, 'SEE': 0.0, 'SHW': 0.0, 'SJM': 0.0, 'SLB': 0.0, 'SNA': 0.0, 'SNPS': 0.0, 'SO': 0.0, 'SPG': 0.0, 'SPGI': 0.0, 'SRE': 0.0, 'STE': 0.0, 'STLD': 0.0, 'STT': 0.0, 'STX': 0.0, 'STZ': 0.0, 'SWK': 0.0, 'SWKS': 0.0, 'SYF': 0.0, 'SYK': 0.0, 'SYY': 0.0, 'T': 0.0, 'TAP': 0.0, 'TDG': 0.0, 'TDY': 0.0, 'TECH': 0.0, 'TEL': 0.0, 'TER': 0.0, 'TFC': 0.0, 'TFX': 0.18303, 'TGT': 0.0, 'TJX': 0.0, 'TMO': 0.0, 'TMUS': 0.0, 'TPR': 0.0, 'TRGP': 0.0, 'TRMB': 0.0, 'TROW': 0.0, 'TRV': 0.0, 'TSCO': 0.0, 'TSLA': 0.0, 'TSN': 0.0, 'TT': 0.0, 'TTWO': 0.0, 'TXN': 0.0, 'TXT': 0.0, 'TYL': 0.0, 'UAL': 0.0, 'UDR': 0.0, 'UHS': 0.0, 'ULTA': 0.0, 'UNH': 0.0, 'UNP': 0.0, 'UPS': 0.0, 'URI': 0.0, 'USB': 0.0, 'V': 0.0, 'VFC': 0.0, 'VICI': 0.0, 'VLO': 0.0, 'VMC': 0.0, 'VRSK': 0.0, 'VRSN': 0.0, 'VRTX': 0.0, 'VTR': 0.0, 'VTRS': 0.0, 'VZ': 0.0, 'WAB': 0.0, 'WAT': 0.0, 'WBA': 0.0, 'WBD': 0.0, 'WDC': 0.0, 'WEC': 0.0, 'WELL': 0.0, 'WFC': 0.0, 'WHR': 0.0, 'WM': 0.0, 'WMB': 0.0, 'WMT': 0.0, 'WRB': 0.0, 'WRK': 0.0, 'WST': 0.0, 'WY': 0.0, 'WYNN': 0.0, 'XEL': 0.0, 'XOM': 0.0, 'XRAY': 0.0, 'XYL': 0.0, 'YUM': 0.0, 'ZBH': 0.0, 'ZBRA': 0.0, 'ZION': 0.0, 'ZTS': 0.0}\n",
      "Discrete allocation (CVAR): {'LMT': 136, 'TFX': 73, 'MKTX': 32, 'EQIX': 4, 'BKNG': 2}\n",
      "Funds remaining (CVAR): $39.21\n"
     ]
    },
    {
     "name": "stderr",
     "output_type": "stream",
     "text": [
      "f:\\anaconda\\envs\\project\\lib\\site-packages\\pypfopt\\discrete_allocation.py:212: RuntimeWarning: invalid value encountered in divide\n",
      "  current_weights /= current_weights.sum()\n"
     ]
    }
   ],
   "source": [
    "CVAR(portfolio.iloc[:, 1:],latest_prices,total_portfolio_value)"
   ]
  },
  {
   "cell_type": "code",
   "execution_count": 20,
   "id": "da3958c3",
   "metadata": {},
   "outputs": [],
   "source": [
    "divers= {'Communication Services': 6.0,\n",
    " 'Consumer Discretionary': 9.0,\n",
    " 'Consumer Staples': 8.0,\n",
    " 'Energy': 15.0,\n",
    " 'Financials': 4.0,\n",
    " 'Industrials': 9.0,\n",
    " 'Materials': 11.0,\n",
    " 'Real Estate': 2.0,\n",
    " 'Information Technology': 23.0,\n",
    " 'Utilities': 4.0,\n",
    " 'Health Care': 9.0}"
   ]
  },
  {
   "cell_type": "code",
   "execution_count": 13,
   "id": "a89699f8",
   "metadata": {},
   "outputs": [],
   "source": [
    "for key, value in divers.items():\n",
    "    divers[key] = total_portfolio_value/100*value"
   ]
  },
  {
   "cell_type": "code",
   "execution_count": 88,
   "id": "da8e7840",
   "metadata": {},
   "outputs": [
    {
     "name": "stderr",
     "output_type": "stream",
     "text": [
      "f:\\anaconda\\envs\\Project\\lib\\site-packages\\pypfopt\\discrete_allocation.py:212: RuntimeWarning: invalid value encountered in divide\n",
      "  current_weights /= current_weights.sum()\n",
      "f:\\anaconda\\envs\\Project\\lib\\site-packages\\pypfopt\\discrete_allocation.py:212: RuntimeWarning: divide by zero encountered in divide\n",
      "  current_weights /= current_weights.sum()\n",
      "f:\\anaconda\\envs\\Project\\lib\\site-packages\\pypfopt\\discrete_allocation.py:212: RuntimeWarning: invalid value encountered in divide\n",
      "  current_weights /= current_weights.sum()\n",
      "f:\\anaconda\\envs\\Project\\lib\\site-packages\\pypfopt\\discrete_allocation.py:212: RuntimeWarning: divide by zero encountered in divide\n",
      "  current_weights /= current_weights.sum()\n",
      "f:\\anaconda\\envs\\Project\\lib\\site-packages\\pypfopt\\discrete_allocation.py:212: RuntimeWarning: invalid value encountered in divide\n",
      "  current_weights /= current_weights.sum()\n",
      "f:\\anaconda\\envs\\Project\\lib\\site-packages\\pypfopt\\discrete_allocation.py:212: RuntimeWarning: divide by zero encountered in divide\n",
      "  current_weights /= current_weights.sum()\n",
      "f:\\anaconda\\envs\\Project\\lib\\site-packages\\pypfopt\\discrete_allocation.py:212: RuntimeWarning: invalid value encountered in divide\n",
      "  current_weights /= current_weights.sum()\n"
     ]
    },
    {
     "name": "stdout",
     "output_type": "stream",
     "text": [
      "{}\n",
      "{}\n",
      "{}\n",
      "{'EQT': 1}\n"
     ]
    },
    {
     "name": "stderr",
     "output_type": "stream",
     "text": [
      "f:\\anaconda\\envs\\Project\\lib\\site-packages\\pypfopt\\discrete_allocation.py:212: RuntimeWarning: divide by zero encountered in divide\n",
      "  current_weights /= current_weights.sum()\n",
      "f:\\anaconda\\envs\\Project\\lib\\site-packages\\pypfopt\\discrete_allocation.py:212: RuntimeWarning: invalid value encountered in divide\n",
      "  current_weights /= current_weights.sum()\n",
      "f:\\anaconda\\envs\\Project\\lib\\site-packages\\pypfopt\\discrete_allocation.py:212: RuntimeWarning: invalid value encountered in divide\n",
      "  current_weights /= current_weights.sum()\n",
      "f:\\anaconda\\envs\\Project\\lib\\site-packages\\pypfopt\\discrete_allocation.py:212: RuntimeWarning: divide by zero encountered in divide\n",
      "  current_weights /= current_weights.sum()\n",
      "f:\\anaconda\\envs\\Project\\lib\\site-packages\\pypfopt\\discrete_allocation.py:212: RuntimeWarning: invalid value encountered in divide\n",
      "  current_weights /= current_weights.sum()\n",
      "f:\\anaconda\\envs\\Project\\lib\\site-packages\\pypfopt\\discrete_allocation.py:212: RuntimeWarning: divide by zero encountered in divide\n",
      "  current_weights /= current_weights.sum()\n",
      "f:\\anaconda\\envs\\Project\\lib\\site-packages\\pypfopt\\discrete_allocation.py:212: RuntimeWarning: invalid value encountered in divide\n",
      "  current_weights /= current_weights.sum()\n",
      "f:\\anaconda\\envs\\Project\\lib\\site-packages\\pypfopt\\discrete_allocation.py:212: RuntimeWarning: divide by zero encountered in divide\n",
      "  current_weights /= current_weights.sum()\n",
      "f:\\anaconda\\envs\\Project\\lib\\site-packages\\pypfopt\\discrete_allocation.py:212: RuntimeWarning: invalid value encountered in divide\n",
      "  current_weights /= current_weights.sum()\n"
     ]
    },
    {
     "name": "stdout",
     "output_type": "stream",
     "text": [
      "{}\n",
      "{'AAL': 1}\n",
      "{'AMCR': 1}\n",
      "{}\n",
      "{}\n",
      "{'PCG': 1}\n",
      "{}\n"
     ]
    },
    {
     "name": "stderr",
     "output_type": "stream",
     "text": [
      "f:\\anaconda\\envs\\Project\\lib\\site-packages\\pypfopt\\discrete_allocation.py:212: RuntimeWarning: divide by zero encountered in divide\n",
      "  current_weights /= current_weights.sum()\n",
      "f:\\anaconda\\envs\\Project\\lib\\site-packages\\pypfopt\\discrete_allocation.py:212: RuntimeWarning: invalid value encountered in divide\n",
      "  current_weights /= current_weights.sum()\n",
      "f:\\anaconda\\envs\\Project\\lib\\site-packages\\pypfopt\\discrete_allocation.py:212: RuntimeWarning: divide by zero encountered in divide\n",
      "  current_weights /= current_weights.sum()\n",
      "f:\\anaconda\\envs\\Project\\lib\\site-packages\\pypfopt\\discrete_allocation.py:212: RuntimeWarning: invalid value encountered in divide\n",
      "  current_weights /= current_weights.sum()\n"
     ]
    }
   ],
   "source": [
    "allocation = []\n",
    "leftover = 0\n",
    "performance = []\n",
    "\n",
    "for key, value in divers.items():\n",
    "    allo,leftover,perf = Mean_Variance_Optimization(portfolio[list(company[company['GICS Sector'] == key].Symbol)],\n",
    "                               get_latest_prices(portfolio[list(company[company['GICS Sector'] == key].Symbol)]),\n",
    "                               (value+leftover))\n",
    "    allocation.extend(list(allo.items()))\n",
    "    performance.extend([perf]) \n",
    "    "
   ]
  },
  {
   "cell_type": "code",
   "execution_count": 86,
   "id": "88d916a3",
   "metadata": {},
   "outputs": [
    {
     "name": "stdout",
     "output_type": "stream",
     "text": [
      "[35.971034650526796, 35.7793718284415, 0.9345763771568737]\n"
     ]
    }
   ],
   "source": [
    "result = [sum(elements) for elements in zip(*performance)]\n",
    "result = [value / len(performance) for value in result]\n",
    "\n",
    "print(result)\n",
    "\n"
   ]
  },
  {
   "cell_type": "code",
   "execution_count": 87,
   "id": "1b0682d3",
   "metadata": {},
   "outputs": [
    {
     "data": {
      "text/plain": [
       "[('EQT', 1), ('AAL', 1), ('AMCR', 1), ('PCG', 1)]"
      ]
     },
     "execution_count": 87,
     "metadata": {},
     "output_type": "execute_result"
    }
   ],
   "source": [
    "allocation"
   ]
  },
  {
   "cell_type": "code",
   "execution_count": null,
   "id": "2791041a",
   "metadata": {},
   "outputs": [],
   "source": []
  }
 ],
 "metadata": {
  "kernelspec": {
   "display_name": "Python 3 (ipykernel)",
   "language": "python",
   "name": "python3"
  },
  "language_info": {
   "codemirror_mode": {
    "name": "ipython",
    "version": 3
   },
   "file_extension": ".py",
   "mimetype": "text/x-python",
   "name": "python",
   "nbconvert_exporter": "python",
   "pygments_lexer": "ipython3",
   "version": "3.10.12"
  }
 },
 "nbformat": 4,
 "nbformat_minor": 5
}
